{
 "cells": [
  {
   "cell_type": "markdown",
   "metadata": {},
   "source": [
    "# Function Fitting with a Quantum Neural Network"
   ]
  },
  {
   "cell_type": "markdown",
   "metadata": {},
   "source": [
    "Using the example from Penny Lane of a variational circuit that learns a\n",
    "fit for a one-dimensional function, we generate several examples of functions with noise\n",
    "and train the quantum neural network to fit them. \n",
    "\n",
    "The variational circuit used is the continuous-variable quantum neural\n",
    "network model described in:\n",
    "\n",
    "`Killoran et al. (2018) <https://arxiv.org/abs/1806.06871>`\n"
   ]
  },
  {
   "cell_type": "code",
   "execution_count": 1,
   "metadata": {},
   "outputs": [],
   "source": [
    "# Import PennyLane, the wrapped version of NumPy provided by PennyLane,and an optimizer.\n",
    "import pennylane as qml\n",
    "from pennylane import numpy as np\n",
    "from pennylane.optimize import AdamOptimizer"
   ]
  },
  {
   "cell_type": "code",
   "execution_count": 2,
   "metadata": {},
   "outputs": [],
   "source": [
    "# Other imports:\n",
    "# matplotlib.pyplot to plot and visualize the data\n",
    "# numpy to generate the mathematical function\n",
    "# pylab to help with interactive plots\n",
    "# pickle to dump the data into a file for future use\n",
    "import matplotlib.pyplot as plt\n",
    "import numpy as np\n",
    "import pylab\n",
    "import pickle"
   ]
  },
  {
   "cell_type": "markdown",
   "metadata": {},
   "source": [
    "## Creating a Noisy Function for Sampling"
   ]
  },
  {
   "cell_type": "code",
   "execution_count": 3,
   "metadata": {},
   "outputs": [],
   "source": [
    "Xlim = 5\n",
    "noise = np.random.normal(0,0.1,100) # generate noise to add to the function values (Y-values)\n",
    "# define functions\n",
    "X = np.arange(-Xlim, Xlim, 0.1)\n",
    "Y = np.sin(X)+noise"
   ]
  },
  {
   "cell_type": "markdown",
   "metadata": {},
   "source": [
    "This will generate two lists 'X' and 'Y' with our X-axis and Y-axis data. We'll now dump the Y-axis data into our file for future use."
   ]
  },
  {
   "cell_type": "code",
   "execution_count": 4,
   "metadata": {},
   "outputs": [],
   "source": [
    "# write the data out to a file\n",
    "sinedata = open('sinedata.md', 'wb')\n",
    "pickle.dump(Y, sinedata)\n",
    "sinedata.close()"
   ]
  },
  {
   "cell_type": "markdown",
   "metadata": {},
   "source": [
    "The above snippet writes the data of y into a file named sinedata.md. Pickle is specific to Python and it can be used to load the data into another Python script later. Now we plot some of the data:"
   ]
  },
  {
   "cell_type": "code",
   "execution_count": 5,
   "metadata": {},
   "outputs": [
    {
     "data": {
      "text/plain": [
       "[<matplotlib.lines.Line2D at 0xa1f872080>]"
      ]
     },
     "execution_count": 5,
     "metadata": {},
     "output_type": "execute_result"
    },
    {
     "data": {
      "image/png": "[encoded data removed]",
      "text/plain": [
       "<Figure size 432x288 with 1 Axes>"
      ]
     },
     "metadata": {
      "needs_background": "light"
     },
     "output_type": "display_data"
    }
   ],
   "source": [
    "plt.plot(X[0:200], Y[0:200])"
   ]
  },
  {
   "cell_type": "markdown",
   "metadata": {},
   "source": [
    "So we have some noisy sine data to train our quantum neural network on. The device we use is the Strawberry Fields simulator, this time with only one quantum mode (or ``wire``). You will need to have the Strawberry Fields plugin for PennyLane installed."
   ]
  },
  {
   "cell_type": "code",
   "execution_count": 6,
   "metadata": {},
   "outputs": [],
   "source": [
    "dev = qml.device(\"strawberryfields.fock\", wires=1, cutoff_dim=10)"
   ]
  },
  {
   "cell_type": "markdown",
   "metadata": {},
   "source": [
    "### Quantum node\n",
    "For a single quantum mode, each layer of the variational circuit is defined as:"
   ]
  },
  {
   "cell_type": "code",
   "execution_count": 7,
   "metadata": {},
   "outputs": [],
   "source": [
    "def layer(v):\n",
    "    # Matrix multiplication of input layer\n",
    "    qml.Rotation(v[0], wires=0)\n",
    "    qml.Squeezing(v[1], 0.0, wires=0)\n",
    "    qml.Rotation(v[2], wires=0)\n",
    "\n",
    "    # Bias\n",
    "    qml.Displacement(v[3], 0.0, wires=0)\n",
    "\n",
    "    # Element-wise nonlinear transformation\n",
    "    qml.Kerr(v[4], wires=0)"
   ]
  },
  {
   "cell_type": "markdown",
   "metadata": {},
   "source": [
    "The variational circuit in the quantum node first encodes the input into\n",
    "the displacement of the mode, and then executes the layers. The output\n",
    "is the expectation of the x-quadrature."
   ]
  },
  {
   "cell_type": "code",
   "execution_count": 8,
   "metadata": {},
   "outputs": [],
   "source": [
    "@qml.qnode(dev)\n",
    "def quantum_neural_net(var, x=None):\n",
    "    # Encode input x into quantum state\n",
    "    qml.Displacement(x, 0.0, wires=0)\n",
    "\n",
    "    # \"layer\" subcircuits\n",
    "    for v in var:\n",
    "        layer(v)\n",
    "\n",
    "    return qml.expval(qml.X(0))"
   ]
  },
  {
   "cell_type": "markdown",
   "metadata": {},
   "source": [
    "### Objective\n",
    "As an objective we take the square loss between target labels and model\n",
    "predictions."
   ]
  },
  {
   "cell_type": "code",
   "execution_count": 9,
   "metadata": {},
   "outputs": [],
   "source": [
    "def square_loss(labels, predictions):\n",
    "    loss = 0\n",
    "    for l, p in zip(labels, predictions):\n",
    "        loss = loss + (l - p) ** 2\n",
    "\n",
    "    loss = loss / len(labels)\n",
    "    return loss"
   ]
  },
  {
   "cell_type": "markdown",
   "metadata": {},
   "source": [
    "In the cost function, we compute the outputs from the variational\n",
    "circuit. Function fitting is a regression problem, and we interpret the\n",
    "expectations from the quantum node as predictions (i.e., without\n",
    "applying postprocessing such as thresholding).\n"
   ]
  },
  {
   "cell_type": "code",
   "execution_count": 10,
   "metadata": {},
   "outputs": [],
   "source": [
    "def cost(var, features, labels):\n",
    "    preds = [quantum_neural_net(var, x=x) for x in features]\n",
    "    return square_loss(labels, preds)"
   ]
  },
  {
   "cell_type": "markdown",
   "metadata": {},
   "source": [
    "### Optimization\n",
    "We load noisy data samples of a sine function."
   ]
  },
  {
   "cell_type": "markdown",
   "metadata": {},
   "source": [
    "Before training a model, let’s examine the data.\n",
    "\n",
    "*Note: For the next cell to work you need the matplotlib library.*\n"
   ]
  },
  {
   "cell_type": "code",
   "execution_count": 11,
   "metadata": {},
   "outputs": [
    {
     "data": {
      "image/png": "[encoded data removed]",
      "text/plain": [
       "<Figure size 432x288 with 1 Axes>"
      ]
     },
     "metadata": {
      "needs_background": "light"
     },
     "output_type": "display_data"
    }
   ],
   "source": [
    "plt.figure()\n",
    "plt.scatter(X, Y)\n",
    "plt.xlabel(\"x\", fontsize=18)\n",
    "plt.ylabel(\"f(x)\", fontsize=18)\n",
    "plt.tick_params(axis=\"both\", which=\"major\", labelsize=16)\n",
    "plt.tick_params(axis=\"both\", which=\"minor\", labelsize=16)\n",
    "plt.show()"
   ]
  },
  {
   "cell_type": "markdown",
   "metadata": {},
   "source": [
    "The network’s weights (called ``var`` here) are initialized with values\n",
    "sampled from a normal distribution. We use 4 layers; performance has\n",
    "been found to plateau at around 6 layers."
   ]
  },
  {
   "cell_type": "code",
   "execution_count": 12,
   "metadata": {},
   "outputs": [
    {
     "name": "stdout",
     "output_type": "stream",
     "text": [
      "[[ 0.08820262  0.02000786  0.0489369   0.11204466  0.0933779 ]\n",
      " [-0.04886389  0.04750442 -0.00756786 -0.00516094  0.02052993]\n",
      " [ 0.00720218  0.07271368  0.03805189  0.00608375  0.02219316]\n",
      " [ 0.01668372  0.07470395 -0.01025791  0.01565339 -0.04270479]]\n"
     ]
    }
   ],
   "source": [
    "np.random.seed(0)\n",
    "num_layers = 4\n",
    "var_init = 0.05 * np.random.randn(num_layers, 5)\n",
    "print(var_init)"
   ]
  },
  {
   "cell_type": "code",
   "execution_count": 13,
   "metadata": {},
   "outputs": [
    {
     "name": "stdout",
     "output_type": "stream",
     "text": [
      "Iter:     1 | Cost: 0.4366430 \n",
      "Iter:     2 | Cost: 0.4130995 \n",
      "Iter:     3 | Cost: 0.4401763 \n",
      "Iter:     4 | Cost: 0.4843044 \n",
      "Iter:     5 | Cost: 0.5272264 \n",
      "Iter:     6 | Cost: 0.5590949 \n",
      "Iter:     7 | Cost: 0.5756194 \n",
      "Iter:     8 | Cost: 0.5762956 \n",
      "Iter:     9 | Cost: 0.5631025 \n",
      "Iter:    10 | Cost: 0.5394853 \n",
      "Iter:    11 | Cost: 0.5095363 \n",
      "Iter:    12 | Cost: 0.4773198 \n",
      "Iter:    13 | Cost: 0.4463337 \n",
      "Iter:    14 | Cost: 0.4191397 \n",
      "Iter:    15 | Cost: 0.3972019 \n",
      "Iter:    16 | Cost: 0.3809405 \n",
      "Iter:    17 | Cost: 0.3699549 \n",
      "Iter:    18 | Cost: 0.3633300 \n",
      "Iter:    19 | Cost: 0.3599337 \n",
      "Iter:    20 | Cost: 0.3586456 \n",
      "Iter:    21 | Cost: 0.3584964 \n",
      "Iter:    22 | Cost: 0.3587285 \n",
      "Iter:    23 | Cost: 0.3588033 \n",
      "Iter:    24 | Cost: 0.3583769 \n",
      "Iter:    25 | Cost: 0.3572647 \n",
      "Iter:    26 | Cost: 0.3554029 \n",
      "Iter:    27 | Cost: 0.3528146 \n",
      "Iter:    28 | Cost: 0.3495813 \n",
      "Iter:    29 | Cost: 0.3458197 \n",
      "Iter:    30 | Cost: 0.3416648 \n",
      "Iter:    31 | Cost: 0.3372562 \n",
      "Iter:    32 | Cost: 0.3327294 \n",
      "Iter:    33 | Cost: 0.3282081 \n",
      "Iter:    34 | Cost: 0.3238007 \n",
      "Iter:    35 | Cost: 0.3195972 \n",
      "Iter:    36 | Cost: 0.3156676 \n",
      "Iter:    37 | Cost: 0.3120615 \n",
      "Iter:    38 | Cost: 0.3088088 \n",
      "Iter:    39 | Cost: 0.3059200 \n",
      "Iter:    40 | Cost: 0.3033888 \n",
      "Iter:    41 | Cost: 0.3011936 \n",
      "Iter:    42 | Cost: 0.2993004 \n",
      "Iter:    43 | Cost: 0.2976666 \n",
      "Iter:    44 | Cost: 0.2962437 \n",
      "Iter:    45 | Cost: 0.2949811 \n",
      "Iter:    46 | Cost: 0.2938298 \n",
      "Iter:    47 | Cost: 0.2927447 \n",
      "Iter:    48 | Cost: 0.2916878 \n",
      "Iter:    49 | Cost: 0.2906292 \n",
      "Iter:    50 | Cost: 0.2895481 \n",
      "Iter:    51 | Cost: 0.2884328 \n",
      "Iter:    52 | Cost: 0.2872799 \n",
      "Iter:    53 | Cost: 0.2860931 \n",
      "Iter:    54 | Cost: 0.2848812 \n",
      "Iter:    55 | Cost: 0.2836566 \n",
      "Iter:    56 | Cost: 0.2824333 \n",
      "Iter:    57 | Cost: 0.2812253 \n",
      "Iter:    58 | Cost: 0.2800452 \n",
      "Iter:    59 | Cost: 0.2789039 \n",
      "Iter:    60 | Cost: 0.2778094 \n",
      "Iter:    61 | Cost: 0.2767668 \n",
      "Iter:    62 | Cost: 0.2757787 \n",
      "Iter:    63 | Cost: 0.2748451 \n",
      "Iter:    64 | Cost: 0.2739643 \n",
      "Iter:    65 | Cost: 0.2731328 \n",
      "Iter:    66 | Cost: 0.2723465 \n",
      "Iter:    67 | Cost: 0.2716004 \n",
      "Iter:    68 | Cost: 0.2708895 \n",
      "Iter:    69 | Cost: 0.2702092 \n",
      "Iter:    70 | Cost: 0.2695549 \n",
      "Iter:    71 | Cost: 0.2689228 \n",
      "Iter:    72 | Cost: 0.2683099 \n",
      "Iter:    73 | Cost: 0.2677134 \n",
      "Iter:    74 | Cost: 0.2671316 \n",
      "Iter:    75 | Cost: 0.2665631 \n",
      "Iter:    76 | Cost: 0.2660070 \n",
      "Iter:    77 | Cost: 0.2654630 \n",
      "Iter:    78 | Cost: 0.2649310 \n",
      "Iter:    79 | Cost: 0.2644110 \n",
      "Iter:    80 | Cost: 0.2639034 \n",
      "Iter:    81 | Cost: 0.2634083 \n",
      "Iter:    82 | Cost: 0.2629260 \n",
      "Iter:    83 | Cost: 0.2624569 \n",
      "Iter:    84 | Cost: 0.2620009 \n",
      "Iter:    85 | Cost: 0.2615582 \n",
      "Iter:    86 | Cost: 0.2611285 \n",
      "Iter:    87 | Cost: 0.2607117 \n",
      "Iter:    88 | Cost: 0.2603074 \n",
      "Iter:    89 | Cost: 0.2599152 \n",
      "Iter:    90 | Cost: 0.2595346 \n",
      "Iter:    91 | Cost: 0.2591651 \n",
      "Iter:    92 | Cost: 0.2588059 \n",
      "Iter:    93 | Cost: 0.2584567 \n",
      "Iter:    94 | Cost: 0.2581168 \n",
      "Iter:    95 | Cost: 0.2577857 \n",
      "Iter:    96 | Cost: 0.2574629 \n",
      "Iter:    97 | Cost: 0.2571479 \n",
      "Iter:    98 | Cost: 0.2568405 \n",
      "Iter:    99 | Cost: 0.2565402 \n",
      "Iter:   100 | Cost: 0.2562468 \n"
     ]
    }
   ],
   "source": [
    "opt = AdamOptimizer(0.01, beta1=0.9, beta2=0.999)\n",
    "\n",
    "var = var_init\n",
    "for it in range(100):\n",
    "    var = opt.step(lambda v: cost(v, X, Y), var)\n",
    "    print(\"Iter: {:5d} | Cost: {:0.7f} \".format(it + 1, cost(var, X, Y)))"
   ]
  },
  {
   "cell_type": "markdown",
   "metadata": {},
   "source": [
    "Finally, we collect the predictions of the trained model for 75 values\n",
    "in the range $[0,30]$:"
   ]
  },
  {
   "cell_type": "code",
   "execution_count": 14,
   "metadata": {},
   "outputs": [],
   "source": [
    "x_pred = np.linspace(-3, 3, 50)\n",
    "predictions = [quantum_neural_net(var, x=x_) for x_ in x_pred]"
   ]
  },
  {
   "cell_type": "markdown",
   "metadata": {},
   "source": [
    "and plot the shape of the function that the model has “learned” from\n",
    "the noisy data (green dots)."
   ]
  },
  {
   "cell_type": "code",
   "execution_count": 15,
   "metadata": {},
   "outputs": [
    {
     "data": {
      "image/png": "[encoded data removed]",
      "text/plain": [
       "<Figure size 432x288 with 1 Axes>"
      ]
     },
     "metadata": {
      "needs_background": "light"
     },
     "output_type": "display_data"
    }
   ],
   "source": [
    "plt.figure()\n",
    "plt.scatter(X, Y)\n",
    "plt.scatter(x_pred, predictions, color=\"red\")\n",
    "plt.xlabel(\"x\")\n",
    "plt.ylabel(\"f(x)\")\n",
    "plt.tick_params(axis=\"both\", which=\"major\")\n",
    "plt.tick_params(axis=\"both\", which=\"minor\")\n",
    "plt.show()"
   ]
  },
  {
   "cell_type": "markdown",
   "metadata": {},
   "source": [
    "The model has learned to smooth the noisy data.\n",
    "\n",
    "In fact, we can use PennyLane to look at typical functions that the\n",
    "model produces without being trained at all. The shape of these\n",
    "functions varies significantly with the variance hyperparameter for the\n",
    "weight initialization.\n",
    "\n",
    "Setting this hyperparameter to a small value produces almost linear\n",
    "functions, since all quantum gates in the variational circuit\n",
    "approximately perform the identity transformation in that case. Larger\n",
    "values produce smoothly oscillating functions with a period that depends\n",
    "on the number of layers used (generically, the more layers, the smaller\n",
    "the period)."
   ]
  },
  {
   "cell_type": "code",
   "execution_count": 16,
   "metadata": {},
   "outputs": [
    {
     "data": {
      "image/png": "[encoded data removed]",
      "text/plain": [
       "<Figure size 432x288 with 1 Axes>"
      ]
     },
     "metadata": {
      "needs_background": "light"
     },
     "output_type": "display_data"
    }
   ],
   "source": [
    "variance = 1.0\n",
    "\n",
    "plt.figure()\n",
    "x_pred = np.linspace(-5, 5, 50)\n",
    "for i in range(7):\n",
    "    rnd_var = variance * np.random.randn(num_layers, 7)\n",
    "    predictions = [quantum_neural_net(rnd_var, x=x_) for x_ in x_pred]\n",
    "    plt.plot(x_pred, predictions, color=\"black\")\n",
    "plt.xlabel(\"x\")\n",
    "plt.ylabel(\"f(x)\")\n",
    "plt.tick_params(axis=\"both\", which=\"major\")\n",
    "plt.tick_params(axis=\"both\", which=\"minor\")\n",
    "plt.show()"
   ]
  },
  {
   "cell_type": "markdown",
   "metadata": {},
   "source": [
    "## References\n",
    "PennyLane \"Function Fitting with a Quantum Neural Network\" ```https://pennylane.ai/qml/app/quantum_neural_net.html```\n",
    "\n",
    "\"Generating and visualizing data from a sine wave in Python\" ```https://goelhardik.github.io/2016/05/25/sampling-sine-wave/```\n",
    "\n",
    "`Killoran et al. (2018) <https://arxiv.org/abs/1806.06871>`\n",
    "\n",
    "\"adding noise to a signal in python\" ```https://stackoverflow.com/questions/14058340/adding-noise-to-a-signal-in-python```"
   ]
  },
  {
   "cell_type": "code",
   "execution_count": null,
   "metadata": {},
   "outputs": [],
   "source": []
  }
 ],
 "metadata": {
  "kernelspec": {
   "display_name": "Python 3",
   "language": "python",
   "name": "python3"
  },
  "language_info": {
   "codemirror_mode": {
    "name": "ipython",
    "version": 3
   },
   "file_extension": ".py",
   "mimetype": "text/x-python",
   "name": "python",
   "nbconvert_exporter": "python",
   "pygments_lexer": "ipython3",
   "version": "3.7.3"
  }
 },
 "nbformat": 4,
 "nbformat_minor": 4
}

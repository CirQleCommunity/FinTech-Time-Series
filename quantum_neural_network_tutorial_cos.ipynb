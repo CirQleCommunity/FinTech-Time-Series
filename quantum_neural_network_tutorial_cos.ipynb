{
 "cells": [
  {
   "cell_type": "markdown",
   "metadata": {},
   "source": [
    "# Noisy Cosine Function Fitting with a Quantum Neural Network"
   ]
  },
  {
   "cell_type": "markdown",
   "metadata": {},
   "source": [
    "Using the example from Penny Lane of a variational circuit that learns a\n",
    "fit for a noisy cosine function. \n",
    "\n",
    "The variational circuit used is the continuous-variable quantum neural\n",
    "network model described in:\n",
    "\n",
    "`Killoran et al. (2018) <https://arxiv.org/abs/1806.06871>`\n"
   ]
  },
  {
   "cell_type": "code",
   "execution_count": 1,
   "metadata": {},
   "outputs": [],
   "source": [
    "# Import PennyLane, the wrapped version of NumPy provided by PennyLane,and an optimizer.\n",
    "import pennylane as qml\n",
    "from pennylane import numpy as np\n",
    "from pennylane.optimize import AdamOptimizer"
   ]
  },
  {
   "cell_type": "code",
   "execution_count": 2,
   "metadata": {},
   "outputs": [],
   "source": [
    "# Other imports:\n",
    "# matplotlib.pyplot to plot and visualize the data\n",
    "# numpy to generate the mathematical function\n",
    "# pylab to help with interactive plots\n",
    "# pickle to dump the data into a file for future use\n",
    "import matplotlib.pyplot as plt\n",
    "import numpy as np\n",
    "import pylab\n",
    "import pickle"
   ]
  },
  {
   "cell_type": "markdown",
   "metadata": {},
   "source": [
    "## Creating a Noisy Cosine Function for Sampling"
   ]
  },
  {
   "cell_type": "code",
   "execution_count": 3,
   "metadata": {},
   "outputs": [],
   "source": [
    "Xlim = 2\n",
    "noise = np.random.normal(0,0.2,40) # generate noise to add to the function values (Y-values)\n",
    "# define functions\n",
    "X = np.arange(-Xlim, Xlim, 0.1)\n",
    "Y = (np.cos(3*X)+noise)/2"
   ]
  },
  {
   "cell_type": "markdown",
   "metadata": {},
   "source": [
    "This will generate two lists 'X' and 'Y' with our X-axis and Y-axis data. We'll now dump the Y-axis data into our file for future use."
   ]
  },
  {
   "cell_type": "code",
   "execution_count": 4,
   "metadata": {},
   "outputs": [],
   "source": [
    "# write the data out to a file\n",
    "cosdata = open('cosdata.md', 'wb')\n",
    "pickle.dump(Y, cosdata)\n",
    "cosdata.close()"
   ]
  },
  {
   "cell_type": "markdown",
   "metadata": {},
   "source": [
    "The above snippet writes the data of y into a file named sinedata.md. Pickle is specific to Python and it can be used to load the data into another Python script later. Now we plot some of the data:"
   ]
  },
  {
   "cell_type": "code",
   "execution_count": 5,
   "metadata": {},
   "outputs": [
    {
     "data": {
      "text/plain": [
       "[<matplotlib.lines.Line2D at 0xa224ad1d0>]"
      ]
     },
     "execution_count": 5,
     "metadata": {},
     "output_type": "execute_result"
    },
    {
     "data": {
      "image/png": "[encoded data removed]",
      "text/plain": [
       "<Figure size 432x288 with 1 Axes>"
      ]
     },
     "metadata": {
      "needs_background": "light"
     },
     "output_type": "display_data"
    }
   ],
   "source": [
    "plt.plot(X[0:200], Y[0:200])"
   ]
  },
  {
   "cell_type": "markdown",
   "metadata": {},
   "source": [
    "So we have some noisy sine data to train our quantum neural network on. The device we use is the Strawberry Fields simulator, this time with only one quantum mode (or ``wire``). You will need to have the Strawberry Fields plugin for PennyLane installed."
   ]
  },
  {
   "cell_type": "code",
   "execution_count": 6,
   "metadata": {},
   "outputs": [],
   "source": [
    "dev = qml.device(\"strawberryfields.fock\", wires=1, cutoff_dim=10)"
   ]
  },
  {
   "cell_type": "markdown",
   "metadata": {},
   "source": [
    "### Quantum node\n",
    "For a single quantum mode, each layer of the variational circuit is defined as:"
   ]
  },
  {
   "cell_type": "code",
   "execution_count": 7,
   "metadata": {},
   "outputs": [],
   "source": [
    "def layer(v):\n",
    "    # Matrix multiplication of input layer\n",
    "    qml.Rotation(v[0], wires=0)\n",
    "    qml.Squeezing(v[1], 0.0, wires=0)\n",
    "    qml.Rotation(v[2], wires=0)\n",
    "\n",
    "    # Bias\n",
    "    qml.Displacement(v[3], 0.0, wires=0)\n",
    "\n",
    "    # Element-wise nonlinear transformation\n",
    "    qml.Kerr(v[4], wires=0)"
   ]
  },
  {
   "cell_type": "markdown",
   "metadata": {},
   "source": [
    "The variational circuit in the quantum node first encodes the input into\n",
    "the displacement of the mode, and then executes the layers. The output\n",
    "is the expectation of the x-quadrature."
   ]
  },
  {
   "cell_type": "code",
   "execution_count": 8,
   "metadata": {},
   "outputs": [],
   "source": [
    "@qml.qnode(dev)\n",
    "def quantum_neural_net(var, x=None):\n",
    "    # Encode input x into quantum state\n",
    "    qml.Displacement(x, 0.0, wires=0)\n",
    "\n",
    "    # \"layer\" subcircuits\n",
    "    for v in var:\n",
    "        layer(v)\n",
    "\n",
    "    return qml.expval(qml.X(0))"
   ]
  },
  {
   "cell_type": "markdown",
   "metadata": {},
   "source": [
    "### Objective\n",
    "As an objective we take the square loss between target labels and model\n",
    "predictions."
   ]
  },
  {
   "cell_type": "code",
   "execution_count": 9,
   "metadata": {},
   "outputs": [],
   "source": [
    "def square_loss(labels, predictions):\n",
    "    loss = 0\n",
    "    for l, p in zip(labels, predictions):\n",
    "        loss = loss + (l - p) ** 2\n",
    "\n",
    "    loss = loss / len(labels)\n",
    "    return loss"
   ]
  },
  {
   "cell_type": "markdown",
   "metadata": {},
   "source": [
    "In the cost function, we compute the outputs from the variational\n",
    "circuit. Function fitting is a regression problem, and we interpret the\n",
    "expectations from the quantum node as predictions (i.e., without\n",
    "applying postprocessing such as thresholding).\n"
   ]
  },
  {
   "cell_type": "code",
   "execution_count": 10,
   "metadata": {},
   "outputs": [],
   "source": [
    "def cost(var, features, labels):\n",
    "    preds = [quantum_neural_net(var, x=x) for x in features]\n",
    "    return square_loss(labels, preds)"
   ]
  },
  {
   "cell_type": "markdown",
   "metadata": {},
   "source": [
    "### Optimization\n",
    "We load noisy data samples of a sine function."
   ]
  },
  {
   "cell_type": "markdown",
   "metadata": {},
   "source": [
    "Before training a model, let’s examine the data.\n",
    "\n",
    "*Note: For the next cell to work you need the matplotlib library.*\n"
   ]
  },
  {
   "cell_type": "code",
   "execution_count": 11,
   "metadata": {},
   "outputs": [
    {
     "data": {
      "image/png": "[encoded data removed]",
      "text/plain": [
       "<Figure size 432x288 with 1 Axes>"
      ]
     },
     "metadata": {
      "needs_background": "light"
     },
     "output_type": "display_data"
    }
   ],
   "source": [
    "plt.figure()\n",
    "plt.scatter(X, Y)\n",
    "plt.xlabel(\"x\", fontsize=18)\n",
    "plt.ylabel(\"f(x)\", fontsize=18)\n",
    "plt.tick_params(axis=\"both\", which=\"major\", labelsize=16)\n",
    "plt.tick_params(axis=\"both\", which=\"minor\", labelsize=16)\n",
    "plt.show()"
   ]
  },
  {
   "cell_type": "markdown",
   "metadata": {},
   "source": [
    "The network’s weights (called ``var`` here) are initialized with values\n",
    "sampled from a normal distribution. We use 4 layers; performance has\n",
    "been found to plateau at around 6 layers."
   ]
  },
  {
   "cell_type": "code",
   "execution_count": 12,
   "metadata": {},
   "outputs": [
    {
     "name": "stdout",
     "output_type": "stream",
     "text": [
      "[[ 0.08820262  0.02000786  0.0489369   0.11204466  0.0933779 ]\n",
      " [-0.04886389  0.04750442 -0.00756786 -0.00516094  0.02052993]\n",
      " [ 0.00720218  0.07271368  0.03805189  0.00608375  0.02219316]\n",
      " [ 0.01668372  0.07470395 -0.01025791  0.01565339 -0.04270479]]\n"
     ]
    }
   ],
   "source": [
    "np.random.seed(0)\n",
    "num_layers = 4\n",
    "var_init = 0.05 * np.random.randn(num_layers, 5)\n",
    "print(var_init)"
   ]
  },
  {
   "cell_type": "code",
   "execution_count": 13,
   "metadata": {},
   "outputs": [
    {
     "name": "stdout",
     "output_type": "stream",
     "text": [
      "Iter:     1 | Cost: 0.8007706 \n",
      "Iter:     2 | Cost: 0.4914594 \n",
      "Iter:     3 | Cost: 0.6969488 \n",
      "Iter:     4 | Cost: 0.9452574 \n",
      "Iter:     5 | Cost: 1.1168969 \n",
      "Iter:     6 | Cost: 1.2109571 \n",
      "Iter:     7 | Cost: 1.2476765 \n",
      "Iter:     8 | Cost: 1.2450811 \n",
      "Iter:     9 | Cost: 1.2163145 \n",
      "Iter:    10 | Cost: 1.1705946 \n",
      "Iter:    11 | Cost: 1.1142030 \n",
      "Iter:    12 | Cost: 1.0512289 \n",
      "Iter:    13 | Cost: 0.9842209 \n",
      "Iter:    14 | Cost: 0.9147676 \n",
      "Iter:    15 | Cost: 0.8439298 \n",
      "Iter:    16 | Cost: 0.7724923 \n",
      "Iter:    17 | Cost: 0.7010800 \n",
      "Iter:    18 | Cost: 0.6302264 \n",
      "Iter:    19 | Cost: 0.5604551 \n",
      "Iter:    20 | Cost: 0.4923870 \n",
      "Iter:    21 | Cost: 0.4268471 \n",
      "Iter:    22 | Cost: 0.3649378 \n",
      "Iter:    23 | Cost: 0.3080507 \n",
      "Iter:    24 | Cost: 0.2577916 \n",
      "Iter:    25 | Cost: 0.2157890 \n",
      "Iter:    26 | Cost: 0.1833700 \n",
      "Iter:    27 | Cost: 0.1611441 \n",
      "Iter:    28 | Cost: 0.1486269 \n",
      "Iter:    29 | Cost: 0.1441018 \n",
      "Iter:    30 | Cost: 0.1448548 \n",
      "Iter:    31 | Cost: 0.1477444 \n",
      "Iter:    32 | Cost: 0.1498896 \n",
      "Iter:    33 | Cost: 0.1492221 \n",
      "Iter:    34 | Cost: 0.1447509 \n",
      "Iter:    35 | Cost: 0.1365335 \n",
      "Iter:    36 | Cost: 0.1254319 \n",
      "Iter:    37 | Cost: 0.1127618 \n",
      "Iter:    38 | Cost: 0.0999304 \n",
      "Iter:    39 | Cost: 0.0881402 \n",
      "Iter:    40 | Cost: 0.0782057 \n",
      "Iter:    41 | Cost: 0.0704979 \n",
      "Iter:    42 | Cost: 0.0649953 \n",
      "Iter:    43 | Cost: 0.0613973 \n",
      "Iter:    44 | Cost: 0.0592543 \n",
      "Iter:    45 | Cost: 0.0580798 \n",
      "Iter:    46 | Cost: 0.0574284 \n",
      "Iter:    47 | Cost: 0.0569391 \n",
      "Iter:    48 | Cost: 0.0563508 \n",
      "Iter:    49 | Cost: 0.0555004 \n",
      "Iter:    50 | Cost: 0.0543112 \n",
      "Iter:    51 | Cost: 0.0527778 \n",
      "Iter:    52 | Cost: 0.0509506 \n",
      "Iter:    53 | Cost: 0.0489198 \n",
      "Iter:    54 | Cost: 0.0468010 \n",
      "Iter:    55 | Cost: 0.0447204 \n",
      "Iter:    56 | Cost: 0.0428008 \n",
      "Iter:    57 | Cost: 0.0411470 \n",
      "Iter:    58 | Cost: 0.0398345 \n",
      "Iter:    59 | Cost: 0.0388999 \n",
      "Iter:    60 | Cost: 0.0383369 \n",
      "Iter:    61 | Cost: 0.0380990 \n",
      "Iter:    62 | Cost: 0.0381071 \n",
      "Iter:    63 | Cost: 0.0382639 \n",
      "Iter:    64 | Cost: 0.0384697 \n",
      "Iter:    65 | Cost: 0.0386380 \n",
      "Iter:    66 | Cost: 0.0387077 \n",
      "Iter:    67 | Cost: 0.0386493 \n",
      "Iter:    68 | Cost: 0.0384641 \n",
      "Iter:    69 | Cost: 0.0381787 \n",
      "Iter:    70 | Cost: 0.0378348 \n",
      "Iter:    71 | Cost: 0.0374784 \n",
      "Iter:    72 | Cost: 0.0371507 \n",
      "Iter:    73 | Cost: 0.0368808 \n",
      "Iter:    74 | Cost: 0.0366829 \n",
      "Iter:    75 | Cost: 0.0365567 \n",
      "Iter:    76 | Cost: 0.0364902 \n",
      "Iter:    77 | Cost: 0.0364635 \n",
      "Iter:    78 | Cost: 0.0364545 \n",
      "Iter:    79 | Cost: 0.0364419 \n",
      "Iter:    80 | Cost: 0.0364093 \n",
      "Iter:    81 | Cost: 0.0363462 \n",
      "Iter:    82 | Cost: 0.0362488 \n",
      "Iter:    83 | Cost: 0.0361197 \n",
      "Iter:    84 | Cost: 0.0359658 \n",
      "Iter:    85 | Cost: 0.0357969 \n",
      "Iter:    86 | Cost: 0.0356235 \n",
      "Iter:    87 | Cost: 0.0354549 \n",
      "Iter:    88 | Cost: 0.0352980 \n",
      "Iter:    89 | Cost: 0.0351565 \n",
      "Iter:    90 | Cost: 0.0350306 \n",
      "Iter:    91 | Cost: 0.0349178 \n",
      "Iter:    92 | Cost: 0.0348135 \n",
      "Iter:    93 | Cost: 0.0347126 \n",
      "Iter:    94 | Cost: 0.0346103 \n",
      "Iter:    95 | Cost: 0.0345030 \n",
      "Iter:    96 | Cost: 0.0343890 \n",
      "Iter:    97 | Cost: 0.0342684 \n",
      "Iter:    98 | Cost: 0.0341428 \n",
      "Iter:    99 | Cost: 0.0340147 \n",
      "Iter:   100 | Cost: 0.0338870 \n"
     ]
    }
   ],
   "source": [
    "opt = AdamOptimizer(0.05, beta1=0.9, beta2=0.999)\n",
    "\n",
    "var = var_init\n",
    "for it in range(100):\n",
    "    var = opt.step(lambda v: cost(v, X, Y), var)\n",
    "    print(\"Iter: {:5d} | Cost: {:0.7f} \".format(it + 1, cost(var, X, Y)))"
   ]
  },
  {
   "cell_type": "markdown",
   "metadata": {},
   "source": [
    "Finally, we collect the predictions of the trained model for 50 values\n",
    "in the range $[-1,1]$:"
   ]
  },
  {
   "cell_type": "code",
   "execution_count": 14,
   "metadata": {},
   "outputs": [],
   "source": [
    "x_pred = np.linspace(-1, 1, 50)\n",
    "predictions = [quantum_neural_net(var, x=x_) for x_ in x_pred]"
   ]
  },
  {
   "cell_type": "markdown",
   "metadata": {},
   "source": [
    "and plot the shape of the function that the model has “learned” from\n",
    "the noisy data (red dots)."
   ]
  },
  {
   "cell_type": "code",
   "execution_count": 15,
   "metadata": {},
   "outputs": [
    {
     "data": {
      "image/png": "[encoded data removed]",
      "text/plain": [
       "<Figure size 432x288 with 1 Axes>"
      ]
     },
     "metadata": {
      "needs_background": "light"
     },
     "output_type": "display_data"
    }
   ],
   "source": [
    "plt.figure()\n",
    "plt.scatter(X, Y)\n",
    "plt.scatter(x_pred, predictions, color=\"red\")\n",
    "plt.xlabel(\"x\")\n",
    "plt.ylabel(\"f(x)\")\n",
    "plt.tick_params(axis=\"both\", which=\"major\")\n",
    "plt.tick_params(axis=\"both\", which=\"minor\")\n",
    "plt.show()"
   ]
  },
  {
   "cell_type": "markdown",
   "metadata": {},
   "source": [
    "Now we plot the shape of the function that the model has “learned” from\n",
    "the noisy data (red dots) for 100 values betw"
   ]
  },
  {
   "cell_type": "code",
   "execution_count": 19,
   "metadata": {},
   "outputs": [],
   "source": [
    "x_pred = np.linspace(-2, 2, 100)\n",
    "predictions = [quantum_neural_net(var, x=x_) for x_ in x_pred]"
   ]
  },
  {
   "cell_type": "code",
   "execution_count": 20,
   "metadata": {},
   "outputs": [
    {
     "data": {
      "image/png": "[encoded data removed]",
      "text/plain": [
       "<Figure size 432x288 with 1 Axes>"
      ]
     },
     "metadata": {
      "needs_background": "light"
     },
     "output_type": "display_data"
    }
   ],
   "source": [
    "plt.figure()\n",
    "plt.scatter(X, Y)\n",
    "plt.scatter(x_pred, predictions, color=\"red\")\n",
    "plt.xlabel(\"x\")\n",
    "plt.ylabel(\"f(x)\")\n",
    "plt.tick_params(axis=\"both\", which=\"major\")\n",
    "plt.tick_params(axis=\"both\", which=\"minor\")\n",
    "plt.show()"
   ]
  },
  {
   "cell_type": "markdown",
   "metadata": {},
   "source": [
    "The model has learned to smooth the noisy cosine function.\n",
    "\n",
    "In fact, we can use PennyLane to look at typical functions that the\n",
    "model produces without being trained at all. The shape of these\n",
    "functions varies significantly with the variance hyperparameter for the\n",
    "weight initialization.\n",
    "\n",
    "Setting this hyperparameter to a small value produces almost linear\n",
    "functions, since all quantum gates in the variational circuit\n",
    "approximately perform the identity transformation in that case. Larger\n",
    "values produce smoothly oscillating functions with a period that depends\n",
    "on the number of layers used (generically, the more layers, the smaller\n",
    "the period)."
   ]
  },
  {
   "cell_type": "code",
   "execution_count": 16,
   "metadata": {},
   "outputs": [
    {
     "data": {
      "image/png": "[encoded data removed]",
      "text/plain": [
       "<Figure size 432x288 with 1 Axes>"
      ]
     },
     "metadata": {
      "needs_background": "light"
     },
     "output_type": "display_data"
    }
   ],
   "source": [
    "variance = 1.0\n",
    "\n",
    "plt.figure()\n",
    "x_pred = np.linspace(-2, 2, 50)\n",
    "for i in range(7):\n",
    "    rnd_var = variance * np.random.randn(num_layers, 7)\n",
    "    predictions = [quantum_neural_net(rnd_var, x=x_) for x_ in x_pred]\n",
    "    plt.plot(x_pred, predictions, color=\"black\")\n",
    "plt.xlabel(\"x\")\n",
    "plt.ylabel(\"f(x)\")\n",
    "plt.tick_params(axis=\"both\", which=\"major\")\n",
    "plt.tick_params(axis=\"both\", which=\"minor\")\n",
    "plt.show()"
   ]
  },
  {
   "cell_type": "markdown",
   "metadata": {},
   "source": [
    "## References\n",
    "PennyLane \"Function Fitting with a Quantum Neural Network\" ```https://pennylane.ai/qml/app/quantum_neural_net.html```\n",
    "\n",
    "\"Generating and visualizing data from a sine wave in Python\" ```https://goelhardik.github.io/2016/05/25/sampling-sine-wave/```\n",
    "\n",
    "`Killoran et al. (2018) <https://arxiv.org/abs/1806.06871>`\n",
    "\n",
    "\"adding noise to a signal in python\" ```https://stackoverflow.com/questions/14058340/adding-noise-to-a-signal-in-python```"
   ]
  },
  {
   "cell_type": "code",
   "execution_count": null,
   "metadata": {},
   "outputs": [],
   "source": []
  }
 ],
 "metadata": {
  "kernelspec": {
   "display_name": "Python 3",
   "language": "python",
   "name": "python3"
  },
  "language_info": {
   "codemirror_mode": {
    "name": "ipython",
    "version": 3
   },
   "file_extension": ".py",
   "mimetype": "text/x-python",
   "name": "python",
   "nbconvert_exporter": "python",
   "pygments_lexer": "ipython3",
   "version": "3.7.3"
  }
 },
 "nbformat": 4,
 "nbformat_minor": 4
}
